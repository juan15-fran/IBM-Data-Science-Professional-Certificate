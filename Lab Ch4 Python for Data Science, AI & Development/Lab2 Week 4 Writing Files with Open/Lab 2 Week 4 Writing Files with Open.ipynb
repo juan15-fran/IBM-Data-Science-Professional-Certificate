{
  "metadata": {
    "language_info": {
      "codemirror_mode": {
        "name": "python",
        "version": 3
      },
      "file_extension": ".py",
      "mimetype": "text/x-python",
      "name": "python",
      "nbconvert_exporter": "python",
      "pygments_lexer": "ipython3",
      "version": "3.8"
    },
    "kernelspec": {
      "name": "python",
      "display_name": "Python (Pyodide)",
      "language": "python"
    }
  },
  "nbformat_minor": 4,
  "nbformat": 4,
  "cells": [
    {
      "cell_type": "code",
      "source": "# Write line to file\nexmp2 = '/Example2.txt'\nwith open(exmp2, 'w') as writefile:\n    writefile.write(\"This is line A\")",
      "metadata": {
        "trusted": true
      },
      "execution_count": 5,
      "outputs": []
    },
    {
      "cell_type": "code",
      "source": "# Read file\n\nwith open(exmp2, 'r') as testwritefile:\n    print(testwritefile.read())",
      "metadata": {
        "trusted": true
      },
      "execution_count": 6,
      "outputs": [
        {
          "name": "stdout",
          "text": "This is line A\n",
          "output_type": "stream"
        }
      ]
    },
    {
      "cell_type": "code",
      "source": "# Write lines to file\n\nwith open(exmp2, 'w') as writefile:\n    writefile.write(\"This is line A\\n\")\n    writefile.write(\"This is line B\\n\")",
      "metadata": {
        "trusted": true
      },
      "execution_count": 7,
      "outputs": []
    },
    {
      "cell_type": "code",
      "source": "# Check whether write to file\n\nwith open(exmp2, 'r') as testwritefile:\n    print(testwritefile.read())",
      "metadata": {
        "trusted": true
      },
      "execution_count": 8,
      "outputs": [
        {
          "name": "stdout",
          "text": "This is line A\nThis is line B\n\n",
          "output_type": "stream"
        }
      ]
    },
    {
      "cell_type": "code",
      "source": "# Sample list of text\n\nLines = [\"This is line A\\n\", \"This is line B\\n\", \"This is line C\\n\"]\nLines",
      "metadata": {
        "trusted": true
      },
      "execution_count": 9,
      "outputs": [
        {
          "execution_count": 7,
          "output_type": "execute_result",
          "data": {
            "text/plain": "['This is line A\\n', 'This is line B\\n', 'This is line C\\n']"
          },
          "metadata": {}
        }
      ]
    },
    {
      "cell_type": "code",
      "source": "# Write the strings in the list to text file\n\nwith open('/Example2.txt', 'w') as writefile:\n    for line in Lines:\n        print(line)\n        writefile.write(line)",
      "metadata": {
        "trusted": true
      },
      "execution_count": 10,
      "outputs": [
        {
          "name": "stdout",
          "text": "This is line A\n\nThis is line B\n\nThis is line C\n\n",
          "output_type": "stream"
        }
      ]
    },
    {
      "cell_type": "code",
      "source": "# Verify if writing to file is successfully executed\n\nwith open('/Example2.txt', 'r') as testwritefile:\n    print(testwritefile.read())",
      "metadata": {
        "trusted": true
      },
      "execution_count": 11,
      "outputs": [
        {
          "name": "stdout",
          "text": "This is line A\nThis is line B\nThis is line C\n\n",
          "output_type": "stream"
        }
      ]
    },
    {
      "cell_type": "code",
      "source": "with open('/Example2.txt', 'w') as writefile:\n    writefile.write(\"Overwrite\\n\")\nwith open('/Example2.txt', 'r') as testwritefile:\n    print(testwritefile.read())",
      "metadata": {
        "trusted": true
      },
      "execution_count": 12,
      "outputs": [
        {
          "name": "stdout",
          "text": "Overwrite\n\n",
          "output_type": "stream"
        }
      ]
    },
    {
      "cell_type": "code",
      "source": "# Write a new line to text file\n\nwith open('/Example2.txt', 'a') as testwritefile:\n    testwritefile.write(\"This is line C\\n\")\n    testwritefile.write(\"This is line D\\n\")\n    testwritefile.write(\"This is line E\\n\")",
      "metadata": {
        "trusted": true
      },
      "execution_count": 13,
      "outputs": []
    },
    {
      "cell_type": "code",
      "source": "# Verify if the new line is in the text file\n\nwith open('/Example2.txt', 'r') as testwritefile:\n    print(testwritefile.read())",
      "metadata": {
        "trusted": true
      },
      "execution_count": 14,
      "outputs": [
        {
          "name": "stdout",
          "text": "Overwrite\nThis is line C\nThis is line D\nThis is line E\n\n",
          "output_type": "stream"
        }
      ]
    },
    {
      "cell_type": "code",
      "source": "with open('/Example2.txt', 'a+') as testwritefile:\n    testwritefile.write(\"This is line E\\n\")\n    print(testwritefile.read())",
      "metadata": {
        "trusted": true
      },
      "execution_count": 15,
      "outputs": [
        {
          "name": "stdout",
          "text": "",
          "output_type": "stream"
        },
        {
          "name": "stdout",
          "text": "\n",
          "output_type": "stream"
        }
      ]
    },
    {
      "cell_type": "code",
      "source": "with open('/Example2.txt', 'a+') as testwritefile:\n    print(\"Initial Location: {}\".format(testwritefile.tell()))\n    \n    data = testwritefile.read()\n    if (not data):  #empty strings return false in python\n            print('Read nothing') \n    else: \n            print(testwritefile.read())\n            \n    testwritefile.seek(0,0) # move 0 bytes from beginning.\n    \n    print(\"\\nNew Location : {}\".format(testwritefile.tell()))\n    data = testwritefile.read()\n    if (not data): \n            print('Read nothing') \n    else: \n            print(data)\n    \n    print(\"Location after read: {}\".format(testwritefile.tell()) )",
      "metadata": {
        "trusted": true
      },
      "execution_count": 16,
      "outputs": [
        {
          "name": "stdout",
          "text": "Initial Location: 70\nRead nothing\n\nNew Location : 0\nOverwrite\nThis is line C\nThis is line D\nThis is line E\nThis is line E\n\nLocation after read: 70\n",
          "output_type": "stream"
        }
      ]
    },
    {
      "cell_type": "code",
      "source": "with open('/Example2.txt', 'r+') as testwritefile:\n    testwritefile.seek(0,0) #write at beginning of file\n    testwritefile.write(\"Line 1\" + \"\\n\")\n    testwritefile.write(\"Line 2\" + \"\\n\")\n    testwritefile.write(\"Line 3\" + \"\\n\")\n    testwritefile.write(\"Line 4\" + \"\\n\")\n    testwritefile.write(\"finished\\n\")\n    testwritefile.seek(0,0)\n    print(testwritefile.read())",
      "metadata": {
        "trusted": true
      },
      "execution_count": 17,
      "outputs": [
        {
          "name": "stdout",
          "text": "Line 1\nLine 2\nLine 3\nLine 4\nfinished\n D\nThis is line E\nThis is line E\n\n",
          "output_type": "stream"
        }
      ]
    },
    {
      "cell_type": "code",
      "source": "with open('/Example2.txt', 'r+') as testwritefile:\n    testwritefile.seek(0,0) #write at beginning of file\n    testwritefile.write(\"Line 1\" + \"\\n\")\n    testwritefile.write(\"Line 2\" + \"\\n\")\n    testwritefile.write(\"Line 3\" + \"\\n\")\n    testwritefile.write(\"Line 4\" + \"\\n\")\n    testwritefile.write(\"finished\\n\")\n    #Uncomment the line below\n    testwritefile.truncate()\n    testwritefile.seek(0,0)\n    print(testwritefile.read())",
      "metadata": {
        "trusted": true
      },
      "execution_count": 18,
      "outputs": [
        {
          "name": "stdout",
          "text": "Line 1\nLine 2\nLine 3\nLine 4\nfinished\n\n",
          "output_type": "stream"
        }
      ]
    },
    {
      "cell_type": "code",
      "source": "# Copy file to another\n\nwith open('/Example2.txt','r') as readfile:\n    with open('/Example3.txt','w') as writefile:\n          for line in readfile:\n                writefile.write(line)",
      "metadata": {
        "trusted": true
      },
      "execution_count": 19,
      "outputs": []
    },
    {
      "cell_type": "code",
      "source": "# Verify if the copy is successfully executed\n\nwith open('/Example3.txt','r') as testwritefile:\n    print(testwritefile.read())",
      "metadata": {
        "trusted": true
      },
      "execution_count": 20,
      "outputs": [
        {
          "name": "stdout",
          "text": "Line 1\nLine 2\nLine 3\nLine 4\nfinished\n\n",
          "output_type": "stream"
        }
      ]
    },
    {
      "cell_type": "code",
      "source": "#Run this prior to starting the exercise\nfrom random import randint as rnd\n\nmemReg = '/members.txt'\nexReg = '/inactive.txt'\nfee =('yes','no')\n\ndef genFiles(current,old):\n    with open(current,'w+') as writefile: \n        writefile.write('Membership No  Date Joined  Active  \\n')\n        data = \"{:^13}  {:<11}  {:<6}\\n\"\n\n        for rowno in range(20):\n            date = str(rnd(2015,2020))+ '-' + str(rnd(1,12))+'-'+str(rnd(1,25))\n            writefile.write(data.format(rnd(10000,99999),date,fee[rnd(0,1)]))\n\n\n    with open(old,'w+') as writefile: \n        writefile.write('Membership No  Date Joined  Active  \\n')\n        data = \"{:^13}  {:<11}  {:<6}\\n\"\n        for rowno in range(3):\n            date = str(rnd(2015,2020))+ '-' + str(rnd(1,12))+'-'+str(rnd(1,25))\n            writefile.write(data.format(rnd(10000,99999),date,fee[1]))\n\n\ngenFiles(memReg,exReg)",
      "metadata": {
        "trusted": true
      },
      "execution_count": 21,
      "outputs": []
    },
    {
      "cell_type": "code",
      "source": "  \n'''\nThe two arguments for this function are the files:\n    - currentMem: File containing list of current members\n    - exMem: File containing list of old members\n    \n    This function should remove all rows from currentMem containing 'no' \n    in the 'Active' column and appends them to exMem.\n    '''\ndef cleanFiles(currentMem, exMem):\n    # TODO: Open the currentMem file as in r+ mode\n        #TODO: Open the exMem file in a+ mode\n\n        #TODO: Read each member in the currentMem (1 member per row) file into a list.\n        # Hint: Recall that the first line in the file is the header.\n\n        #TODO: iterate through the members and create a new list of the innactive members\n\n        # Go to the beginning of the currentMem file\n        # TODO: Iterate through the members list. \n        # If a member is inactive, add them to exMem, otherwise write them into currentMem\n\n        \n    \n    pass # Remove this line when done implementation\n\n\n# The code below is to help you view the files.\n# Do not modify this code for this exercise.\nmemReg = '/members.txt'\nexReg = '/inactive.txt'\ncleanFiles(memReg,exReg)\n\n\nheaders = \"Membership No  Date Joined  Active  \\n\"\nwith open(memReg,'r') as readFile:\n    print(\"Active Members: \\n\\n\")\n    print(readFile.read())\n    \nwith open(exReg,'r') as readFile:\n    print(\"Inactive Members: \\n\\n\")\n    print(readFile.read())\n                ",
      "metadata": {
        "trusted": true
      },
      "execution_count": 22,
      "outputs": [
        {
          "name": "stdout",
          "text": "Active Members: \n\n\nMembership No  Date Joined  Active  \n    91368      2020-1-15    no    \n    36225      2019-8-18    yes   \n    25150      2020-9-19    no    \n    73301      2017-10-3    no    \n    39892      2020-11-20   no    \n    13118      2016-11-23   yes   \n    45129      2018-8-13    yes   \n    74340      2015-2-10    no    \n    49155      2017-2-2     no    \n    69451      2016-2-24    yes   \n    37355      2017-12-14   no    \n    93247      2019-11-6    no    \n    17519      2015-4-4     no    \n    27435      2017-8-11    yes   \n    61733      2018-10-12   no    \n    64281      2017-11-1    yes   \n    53863      2016-1-5     yes   \n    12274      2016-1-11    no    \n    30903      2018-9-15    no    \n    60139      2017-8-7     yes   \n\nInactive Members: \n\n\nMembership No  Date Joined  Active  \n    47639      2020-4-8     no    \n    97332      2016-6-1     no    \n    31323      2016-10-18   no    \n\n",
          "output_type": "stream"
        }
      ]
    },
    {
      "cell_type": "code",
      "source": "'''\nThe two arguments for this function are the files:\n    - currentMem: File containing list of current members\n    - exMem: File containing list of old members\n    \n    This function should remove all rows from currentMem containing 'no' \n    in the 'Active' column and appends them to exMem.\n    '''\ndef cleanFiles(currentMem, exMem):\n    # TODO: Open the currentMem file as in r+ mode\n    with open(currentMem, 'r+') as readfile1:\n    #TODO: Open the exMem file in a+ mode\n    with open(exMem, 'a+') as testwritefile:\n       \n    \n     # TODO: Read each member in the currentMem (1 member per row) file into a list.    \n        file1 = readfile1.read()\n        print(file1)\n     # Hint: Recall that the first line in the file is the header.   \n    \n    \n     #TODO: iterate through the members and create a new list of the innactive members\n            for member in members:\n                    if(member in inactive):\n                        testwritefile.write(member)\n                    else:\n                        readfile1.write(member)\n                readfile1.truncate()\n        # Go to the beginning of the currentMem file\n        # TODO: Iterate through the members list. \n        # If a member is inactive, add them to exMem, otherwise write them into currentMem \n    \n    pass # Remove this line when done implementation\n\n# The code below is to help you view the files.\n# Do not modify this code for this exercise.\nmemReg = '/members.txt'\nexReg = '/inactive.txt'\ncleanFiles(memReg,exReg)\n\n\nheaders = \"Membership No  Date Joined  Active  \\n\"\nwith open(memReg,'r') as readFile:\n    print(\"Active Members: \\n\\n\")\n    print(readFile.read())\n    \nwith open(exReg,'r') as readFile:\n    print(\"Inactive Members: \\n\\n\")\n    print(readFile.read())\n                ",
      "metadata": {
        "trusted": true
      },
      "execution_count": null,
      "outputs": []
    },
    {
      "cell_type": "code",
      "source": "def testMsg(passed):\n    if passed:\n       return 'Test Passed'\n    else :\n       return 'Test Failed'\n\ntestWrite = \"/testWrite.txt\"\ntestAppend = \"/testAppend.txt\" \npassed = True\n\ngenFiles(testWrite,testAppend)\n\nwith open(testWrite,'r') as file:\n    ogWrite = file.readlines()\n\nwith open(testAppend,'r') as file:\n    ogAppend = file.readlines()\n\ntry:\n    cleanFiles(testWrite,testAppend)\nexcept:\n    print('Error')\n\nwith open(testWrite,'r') as file:\n    clWrite = file.readlines()\n\nwith open(testAppend,'r') as file:\n    clAppend = file.readlines()\n        \n# checking if total no of rows is same, including headers\n\nif (len(ogWrite) + len(ogAppend) != len(clWrite) + len(clAppend)):\n    print(\"The number of rows do not add up. Make sure your final files have the same header and format.\")\n    passed = False\n    \nfor line in clWrite:\n    if  'no' in line:\n        passed = False\n        print(\"Inactive members in file\")\n        break\n    else:\n        if line not in ogWrite:\n            print(\"Data in file does not match original file\")\n            passed = False\nprint (\"{}\".format(testMsg(passed)))\n    ",
      "metadata": {
        "trusted": true
      },
      "execution_count": 24,
      "outputs": [
        {
          "name": "stdout",
          "text": "Inactive members in file\nTest Failed\n",
          "output_type": "stream"
        }
      ]
    },
    {
      "cell_type": "code",
      "source": "def cleanFiles(currentMem,exMem):\n    with open(currentMem,'r+') as writeFile: \n        with open(exMem,'a+') as appendFile:\n            #get the data\n            writeFile.seek(0)\n            members = writeFile.readlines()\n            #remove header\n            header = members[0]\n            members.pop(0)\n                \n            inactive = [member for member in members if ('no' in member)]\n            '''\n            The above is the same as \n\n            for member in members:\n            if 'no' in member:\n                inactive.append(member)\n            '''\n            #go to the beginning of the write file\n            writeFile.seek(0) \n            writeFile.write(header)\n            for member in members:\n                if (member in inactive):\n                    appendFile.write(member)\n                else:\n                    writeFile.write(member)      \n            writeFile.truncate()\n                \nmemReg = 'members.txt'\nexReg = 'inactive.txt'\ncleanFiles(memReg,exReg)\n\n# code to help you see the files\n\nheaders = \"Membership No  Date Joined  Active  \\n\"\n\nwith open(memReg,'r') as readFile:\n    print(\"Active Members: \\n\\n\")\n    print(readFile.read())\n    \nwith open(exReg,'r') as readFile:\n    print(\"Inactive Members: \\n\\n\")\n    print(readFile.read())\n    ",
      "metadata": {
        "trusted": true
      },
      "execution_count": 25,
      "outputs": [
        {
          "ename": "<class 'FileNotFoundError'>",
          "evalue": "[Errno 44] No such file or directory: 'members.txt'",
          "traceback": [
            "\u001b[0;31m---------------------------------------------------------------------------\u001b[0m",
            "\u001b[0;31mFileNotFoundError\u001b[0m                         Traceback (most recent call last)",
            "Cell \u001b[0;32mIn[22], line 31\u001b[0m\n\u001b[1;32m     29\u001b[0m memReg \u001b[38;5;241m=\u001b[39m \u001b[38;5;124m'\u001b[39m\u001b[38;5;124mmembers.txt\u001b[39m\u001b[38;5;124m'\u001b[39m\n\u001b[1;32m     30\u001b[0m exReg \u001b[38;5;241m=\u001b[39m \u001b[38;5;124m'\u001b[39m\u001b[38;5;124minactive.txt\u001b[39m\u001b[38;5;124m'\u001b[39m\n\u001b[0;32m---> 31\u001b[0m \u001b[43mcleanFiles\u001b[49m\u001b[43m(\u001b[49m\u001b[43mmemReg\u001b[49m\u001b[43m,\u001b[49m\u001b[43mexReg\u001b[49m\u001b[43m)\u001b[49m\n\u001b[1;32m     33\u001b[0m \u001b[38;5;66;03m# code to help you see the files\u001b[39;00m\n\u001b[1;32m     35\u001b[0m headers \u001b[38;5;241m=\u001b[39m \u001b[38;5;124m\"\u001b[39m\u001b[38;5;124mMembership No  Date Joined  Active  \u001b[39m\u001b[38;5;130;01m\\n\u001b[39;00m\u001b[38;5;124m\"\u001b[39m\n",
            "Cell \u001b[0;32mIn[22], line 2\u001b[0m, in \u001b[0;36mcleanFiles\u001b[0;34m(currentMem, exMem)\u001b[0m\n\u001b[1;32m      1\u001b[0m \u001b[38;5;28;01mdef\u001b[39;00m \u001b[38;5;21mcleanFiles\u001b[39m(currentMem,exMem):\n\u001b[0;32m----> 2\u001b[0m     \u001b[38;5;28;01mwith\u001b[39;00m \u001b[38;5;28;43mopen\u001b[39;49m\u001b[43m(\u001b[49m\u001b[43mcurrentMem\u001b[49m\u001b[43m,\u001b[49m\u001b[38;5;124;43m'\u001b[39;49m\u001b[38;5;124;43mr+\u001b[39;49m\u001b[38;5;124;43m'\u001b[39;49m\u001b[43m)\u001b[49m \u001b[38;5;28;01mas\u001b[39;00m writeFile: \n\u001b[1;32m      3\u001b[0m         \u001b[38;5;28;01mwith\u001b[39;00m \u001b[38;5;28mopen\u001b[39m(exMem,\u001b[38;5;124m'\u001b[39m\u001b[38;5;124ma+\u001b[39m\u001b[38;5;124m'\u001b[39m) \u001b[38;5;28;01mas\u001b[39;00m appendFile:\n\u001b[1;32m      4\u001b[0m             \u001b[38;5;66;03m#get the data\u001b[39;00m\n\u001b[1;32m      5\u001b[0m             writeFile\u001b[38;5;241m.\u001b[39mseek(\u001b[38;5;241m0\u001b[39m)\n",
            "File \u001b[0;32m/lib/python3.11/site-packages/IPython/core/interactiveshell.py:308\u001b[0m, in \u001b[0;36m_modified_open\u001b[0;34m(file, *args, **kwargs)\u001b[0m\n\u001b[1;32m    301\u001b[0m \u001b[38;5;28;01mif\u001b[39;00m file \u001b[38;5;129;01min\u001b[39;00m {\u001b[38;5;241m0\u001b[39m, \u001b[38;5;241m1\u001b[39m, \u001b[38;5;241m2\u001b[39m}:\n\u001b[1;32m    302\u001b[0m     \u001b[38;5;28;01mraise\u001b[39;00m \u001b[38;5;167;01mValueError\u001b[39;00m(\n\u001b[1;32m    303\u001b[0m         \u001b[38;5;124mf\u001b[39m\u001b[38;5;124m\"\u001b[39m\u001b[38;5;124mIPython won\u001b[39m\u001b[38;5;124m'\u001b[39m\u001b[38;5;124mt let you open fd=\u001b[39m\u001b[38;5;132;01m{\u001b[39;00mfile\u001b[38;5;132;01m}\u001b[39;00m\u001b[38;5;124m by default \u001b[39m\u001b[38;5;124m\"\u001b[39m\n\u001b[1;32m    304\u001b[0m         \u001b[38;5;124m\"\u001b[39m\u001b[38;5;124mas it is likely to crash IPython. If you know what you are doing, \u001b[39m\u001b[38;5;124m\"\u001b[39m\n\u001b[1;32m    305\u001b[0m         \u001b[38;5;124m\"\u001b[39m\u001b[38;5;124myou can use builtins\u001b[39m\u001b[38;5;124m'\u001b[39m\u001b[38;5;124m open.\u001b[39m\u001b[38;5;124m\"\u001b[39m\n\u001b[1;32m    306\u001b[0m     )\n\u001b[0;32m--> 308\u001b[0m \u001b[38;5;28;01mreturn\u001b[39;00m \u001b[43mio_open\u001b[49m\u001b[43m(\u001b[49m\u001b[43mfile\u001b[49m\u001b[43m,\u001b[49m\u001b[43m \u001b[49m\u001b[38;5;241;43m*\u001b[39;49m\u001b[43margs\u001b[49m\u001b[43m,\u001b[49m\u001b[43m \u001b[49m\u001b[38;5;241;43m*\u001b[39;49m\u001b[38;5;241;43m*\u001b[39;49m\u001b[43mkwargs\u001b[49m\u001b[43m)\u001b[49m\n",
            "\u001b[0;31mFileNotFoundError\u001b[0m: [Errno 44] No such file or directory: 'members.txt'"
          ],
          "output_type": "error"
        }
      ]
    },
    {
      "cell_type": "code",
      "source": "",
      "metadata": {},
      "execution_count": null,
      "outputs": []
    }
  ]
}